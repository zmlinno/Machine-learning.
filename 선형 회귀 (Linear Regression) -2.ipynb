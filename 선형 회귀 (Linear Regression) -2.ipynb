{
 "cells": [
  {
   "attachments": {},
   "cell_type": "markdown",
   "id": "99decc51",
   "metadata": {},
   "source": [
    "### 정규 방정식"
   ]
  },
  {
   "attachments": {},
   "cell_type": "markdown",
   "id": "c00fb637",
   "metadata": {},
   "source": [
    "#### 이차 선형 방정식"
   ]
  },
  {
   "attachments": {},
   "cell_type": "markdown",
   "id": "95560b47",
   "metadata": {},
   "source": [
    "$W = (X^TX)^{-1}X^Ty$"
   ]
  },
  {
   "cell_type": "code",
   "execution_count": 136,
   "id": "04ce59a5",
   "metadata": {
    "ExecuteTime": {
     "end_time": "2022-05-25T13:29:16.994182Z",
     "start_time": "2022-05-25T13:29:16.971262Z"
    }
   },
   "outputs": [
    {
     "data": {
      "text/plain": [
       "array([8., 6.])"
      ]
     },
     "execution_count": 136,
     "metadata": {},
     "output_type": "execute_result"
    }
   ],
   "source": [
    "# 선형 회귀는 무엇인가요?\n",
    "# 어떤 문제를 해결할 수 있나요?\n",
    "import numpy as np\n",
    "X = np.array([[1,1],[2,-1]])\n",
    "y = np.array([14,10])\n",
    "\n",
    "# 정규 방정식은 linalg 선형 대수를 사용합니다.\n",
    "w = np.linalg.inv(X.T.dot(X)).dot(X.T).dot(y)\n",
    "w"
   ]
  },
  {
   "cell_type": "code",
   "execution_count": 137,
   "id": "4b93d64d",
   "metadata": {
    "ExecuteTime": {
     "end_time": "2022-05-25T13:29:17.010124Z",
     "start_time": "2022-05-25T13:29:16.996171Z"
    }
   },
   "outputs": [
    {
     "data": {
      "text/plain": [
       "array([-0.8,  1.6])"
      ]
     },
     "metadata": {},
     "output_type": "display_data"
    },
    {
     "data": {
      "text/plain": [
       "13.2"
      ]
     },
     "metadata": {},
     "output_type": "display_data"
    }
   ],
   "source": [
    "from sklearn.linear_model import LinearRegression # 선형 회귀\n",
    "\n",
    "model = LinearRegression(fit_intercept=True) #  기본적으로 이 매개변수는 True이며, 일반적으로 True를 사용합니다.\n",
    "model.fit(X,y) # 모델 구축, 훈련\n",
    "\n",
    "# coef는 기울기, 선형 방정식, 계수 == 기울기, 절편\n",
    "# 위의 방정식(변수, 계수, 기울기 + 절편을 구하는)에서 절편이 있나요?\n",
    "display(model.coef_, model.intercept_)"
   ]
  },
  {
   "cell_type": "code",
   "execution_count": 138,
   "id": "d3d95f29",
   "metadata": {
    "ExecuteTime": {
     "end_time": "2022-05-25T13:29:17.026075Z",
     "start_time": "2022-05-25T13:29:17.012118Z"
    }
   },
   "outputs": [],
   "source": [
    "# # 절편 포함\n",
    "# # x + y = 14\n",
    "# -0.8 + 1.6 + 13.2 = 14\n",
    "\n",
    "# # 2x - y = 10\n",
    "# 2*-0.8 - 1.6 + 13.2 = 10"
   ]
  },
  {
   "attachments": {},
   "cell_type": "markdown",
   "id": "bb3186e6",
   "metadata": {},
   "source": [
    "#### 8차원 일차 방정식"
   ]
  },
  {
   "cell_type": "code",
   "execution_count": 139,
   "id": "67f9e2be",
   "metadata": {
    "ExecuteTime": {
     "end_time": "2022-05-25T13:29:17.042018Z",
     "start_time": "2022-05-25T13:29:17.028065Z"
    }
   },
   "outputs": [
    {
     "data": {
      "text/plain": [
       "array([[  0,  14,   8,   0,   5,  -2,   9,  -3],\n",
       "       [ -4,  10,   6,   4, -14,  -2, -14,   8],\n",
       "       [ -1,  -6,   5, -12,   3,  -3,   2,  -2],\n",
       "       [  5,  -2,   3,  10,   5,  11,   4,  -8],\n",
       "       [-15, -15,  -8, -15,   7,  -4, -12,   2],\n",
       "       [ 11, -10,  -2,   4,   3,  -9,  -6,   7],\n",
       "       [-14,   0,   4,  -3,   5,  10,  13,   7],\n",
       "       [ -3,  -7,  -2,  -8,   0,  -6,  -5,  -9]])"
      ]
     },
     "metadata": {},
     "output_type": "display_data"
    },
    {
     "data": {
      "text/plain": [
       "array([ 339, -114,   30,  126, -395,  -87,  422, -309])"
      ]
     },
     "metadata": {},
     "output_type": "display_data"
    }
   ],
   "source": [
    "# 위의 8차원 일차 방정식에 해당하는 X 데이터와 대응하는 y 값은 다음과 같습니다:\n",
    "X = np.array([[  0 ,14 , 8 ,  0 ,  5,  -2,   9,  -3],\n",
    " [ -4 , 10 ,  6 ,  4 ,-14 , -2 ,-14  , 8],\n",
    " [ -1 , -6  , 5 ,-12 ,  3 , -3 ,  2 , -2],\n",
    " [  5 , -2  , 3 , 10  , 5 , 11 ,  4  ,-8],\n",
    " [-15 ,-15  ,-8 ,-15 ,  7 , -4, -12 ,  2],\n",
    " [ 11 ,-10 , -2 ,  4  , 3 , -9 , -6 ,  7],\n",
    " [-14 ,  0 ,  4 , -3  , 5 , 10 , 13 ,  7],\n",
    " [ -3 , -7 , -2 , -8  , 0 , -6 , -5 , -9]])\n",
    "y = np.array([ 339 ,-114  , 30 , 126, -395 , -87 , 422, -309])\n",
    "display(X,y)"
   ]
  },
  {
   "cell_type": "code",
   "execution_count": 140,
   "id": "a6d50ee3",
   "metadata": {
    "ExecuteTime": {
     "end_time": "2022-05-25T13:29:17.057121Z",
     "start_time": "2022-05-25T13:29:17.045016Z"
    }
   },
   "outputs": [
    {
     "data": {
      "text/plain": [
       "array([ 1.,  5., 15.,  3.,  8.,  4., 17., 12.])"
      ]
     },
     "execution_count": 140,
     "metadata": {},
     "output_type": "execute_result"
    }
   ],
   "source": [
    "# x1부터 x8까지는: 1., 5., 15., 3., 8., 4., 17., 12.\n",
    "w = np.linalg.inv(X.T.dot(X)).dot(X.T).dot(y)\n",
    "w"
   ]
  },
  {
   "cell_type": "code",
   "execution_count": 141,
   "id": "4e80d933",
   "metadata": {
    "ExecuteTime": {
     "end_time": "2022-05-25T13:29:17.072361Z",
     "start_time": "2022-05-25T13:29:17.059957Z"
    }
   },
   "outputs": [
    {
     "data": {
      "text/plain": [
       "array([ 1.,  5., 15.,  3.,  8.,  4., 17., 12.])"
      ]
     },
     "metadata": {},
     "output_type": "display_data"
    },
    {
     "data": {
      "text/plain": [
       "0.0"
      ]
     },
     "metadata": {},
     "output_type": "display_data"
    }
   ],
   "source": [
    "model = LinearRegression(fit_intercept=False)\n",
    "model.fit(X,y)\n",
    "display(model.coef_,model.intercept_)"
   ]
  },
  {
   "attachments": {},
   "cell_type": "markdown",
   "id": "d3dea916",
   "metadata": {},
   "source": [
    "#### 8차원 일차 방정식 + 절편 [12]"
   ]
  },
  {
   "cell_type": "code",
   "execution_count": 142,
   "id": "0114ee22",
   "metadata": {
    "ExecuteTime": {
     "end_time": "2022-05-25T13:29:17.088307Z",
     "start_time": "2022-05-25T13:29:17.075350Z"
    }
   },
   "outputs": [
    {
     "data": {
      "text/plain": [
       "array([ 403,  -50,   94,  190, -331,  -23,  486, -245])"
      ]
     },
     "execution_count": 142,
     "metadata": {},
     "output_type": "execute_result"
    }
   ],
   "source": [
    "y_new = y + 64\n",
    "y_new"
   ]
  },
  {
   "cell_type": "code",
   "execution_count": 143,
   "id": "8d4541e2",
   "metadata": {
    "ExecuteTime": {
     "end_time": "2022-05-25T13:29:17.104255Z",
     "start_time": "2022-05-25T13:29:17.091300Z"
    }
   },
   "outputs": [
    {
     "data": {
      "text/plain": [
       "array([-9.53423295, -3.18237714, 32.89293368, 13.94370726, 12.88345187,\n",
       "       -5.64066992, 14.95379584,  8.62431708])"
      ]
     },
     "execution_count": 143,
     "metadata": {},
     "output_type": "execute_result"
    }
   ],
   "source": [
    "# 한 가지 고민할 문제는, 절편이 추가되면서 b, 미지수가 추가된다는 것입니다.\n",
    "w = np.linalg.inv(X.T.dot(X)).dot(X.T).dot(y_new)\n",
    "w"
   ]
  },
  {
   "cell_type": "code",
   "execution_count": 144,
   "id": "6d222cae",
   "metadata": {
    "ExecuteTime": {
     "end_time": "2022-05-25T13:29:17.119206Z",
     "start_time": "2022-05-25T13:29:17.107244Z"
    },
    "collapsed": true
   },
   "outputs": [
    {
     "data": {
      "text/plain": [
       "array([[  0.,  14.,   8.,   0.,   5.,  -2.,   9.,  -3.,   1.],\n",
       "       [ -4.,  10.,   6.,   4., -14.,  -2., -14.,   8.,   1.],\n",
       "       [ -1.,  -6.,   5., -12.,   3.,  -3.,   2.,  -2.,   1.],\n",
       "       [  5.,  -2.,   3.,  10.,   5.,  11.,   4.,  -8.,   1.],\n",
       "       [-15., -15.,  -8., -15.,   7.,  -4., -12.,   2.,   1.],\n",
       "       [ 11., -10.,  -2.,   4.,   3.,  -9.,  -6.,   7.,   1.],\n",
       "       [-14.,   0.,   4.,  -3.,   5.,  10.,  13.,   7.,   1.],\n",
       "       [ -3.,  -7.,  -2.,  -8.,   0.,  -6.,  -5.,  -9.,   1.]])"
      ]
     },
     "execution_count": 144,
     "metadata": {},
     "output_type": "execute_result"
    }
   ],
   "source": [
    "X_new = np.concatenate([X,np.ones(shape =(8,1))],axis = 1)\n",
    "X_new"
   ]
  },
  {
   "cell_type": "code",
   "execution_count": 145,
   "id": "3d26bf0d",
   "metadata": {
    "ExecuteTime": {
     "end_time": "2022-05-25T13:29:17.135236Z",
     "start_time": "2022-05-25T13:29:17.124190Z"
    }
   },
   "outputs": [
    {
     "data": {
      "text/plain": [
       "(8, 9)"
      ]
     },
     "execution_count": 145,
     "metadata": {},
     "output_type": "execute_result"
    }
   ],
   "source": [
    "X_new.shape"
   ]
  },
  {
   "cell_type": "code",
   "execution_count": 146,
   "id": "5291f610",
   "metadata": {
    "ExecuteTime": {
     "end_time": "2022-05-25T13:29:17.151098Z",
     "start_time": "2022-05-25T13:29:17.138147Z"
    }
   },
   "outputs": [
    {
     "data": {
      "text/plain": [
       "array([ 31.7109375 ,  43.1328125 , -72.109375  ,  -8.6328125 ,\n",
       "         6.4921875 ,  48.2265625 ,  12.44921875,  21.0546875 ,\n",
       "       195.4375    ])"
      ]
     },
     "execution_count": 146,
     "metadata": {},
     "output_type": "execute_result"
    }
   ],
   "source": [
    "\n",
    "w = np.linalg.inv(X_new.T.dot(X_new)).dot(X_new.T).dot(y_new)\n",
    "w"
   ]
  },
  {
   "cell_type": "code",
   "execution_count": 147,
   "id": "302fc0e2",
   "metadata": {
    "ExecuteTime": {
     "end_time": "2022-05-25T13:29:17.167057Z",
     "start_time": "2022-05-25T13:29:17.153091Z"
    }
   },
   "outputs": [
    {
     "data": {
      "text/plain": [
       "array([ 403.,  -50.,   94.,  190., -331.,  -23.,  486., -245.,  116.])"
      ]
     },
     "execution_count": 147,
     "metadata": {},
     "output_type": "execute_result"
    }
   ],
   "source": [
    "w = np.array([ 1.,  5., 15.,  3.,  8.,  4., 17., 12.])\n",
    "b = 64\n",
    "X9 = np.random.randint(-10,10,size = 8) # x1 ~ x8\n",
    "y9 = w.dot(X9) + b # 따라서 9번째 방정식의 목표값을 얻을 수 있습니다.\n",
    "\n",
    "# 데이터를 병합합니다\n",
    "y_new = np.concatenate([y_new,[y9]])\n",
    "y_new # 9"
   ]
  },
  {
   "cell_type": "code",
   "execution_count": 148,
   "id": "dc9285cd",
   "metadata": {
    "ExecuteTime": {
     "end_time": "2022-05-25T13:29:17.182995Z",
     "start_time": "2022-05-25T13:29:17.169038Z"
    }
   },
   "outputs": [
    {
     "data": {
      "text/plain": [
       "array([[  0.,  14.,   8.,   0.,   5.,  -2.,   9.,  -3.,   1.],\n",
       "       [ -4.,  10.,   6.,   4., -14.,  -2., -14.,   8.,   1.],\n",
       "       [ -1.,  -6.,   5., -12.,   3.,  -3.,   2.,  -2.,   1.],\n",
       "       [  5.,  -2.,   3.,  10.,   5.,  11.,   4.,  -8.,   1.],\n",
       "       [-15., -15.,  -8., -15.,   7.,  -4., -12.,   2.,   1.],\n",
       "       [ 11., -10.,  -2.,   4.,   3.,  -9.,  -6.,   7.,   1.],\n",
       "       [-14.,   0.,   4.,  -3.,   5.,  10.,  13.,   7.,   1.],\n",
       "       [ -3.,  -7.,  -2.,  -8.,   0.,  -6.,  -5.,  -9.,   1.],\n",
       "       [  9.,  -5.,  -4.,   3.,   1.,  -2.,   7.,   0.,   1.]])"
      ]
     },
     "execution_count": 148,
     "metadata": {},
     "output_type": "execute_result"
    }
   ],
   "source": [
    "# 다시 돌립니다\n",
    "X_new = np.concatenate([X_new,[np.concatenate([X9,[1]])]])\n",
    "X_new"
   ]
  },
  {
   "cell_type": "code",
   "execution_count": 149,
   "id": "08f8c5e5",
   "metadata": {
    "ExecuteTime": {
     "end_time": "2022-05-25T13:29:17.197991Z",
     "start_time": "2022-05-25T13:29:17.184984Z"
    }
   },
   "outputs": [
    {
     "data": {
      "text/plain": [
       "array([ 1.,  5., 15.,  3.,  8.,  4., 17., 12., 64.])"
      ]
     },
     "metadata": {},
     "output_type": "display_data"
    },
    {
     "data": {
      "text/plain": [
       "0.0"
      ]
     },
     "metadata": {},
     "output_type": "display_data"
    }
   ],
   "source": [
    "model = LinearRegression(fit_intercept=False)\n",
    "\n",
    "model.fit(X_new,y_new)\n",
    "display(model.coef_,model.intercept_)"
   ]
  },
  {
   "cell_type": "code",
   "execution_count": 150,
   "id": "b2db2a4a",
   "metadata": {
    "ExecuteTime": {
     "end_time": "2022-05-25T13:29:17.213896Z",
     "start_time": "2022-05-25T13:29:17.200946Z"
    }
   },
   "outputs": [
    {
     "data": {
      "text/plain": [
       "array([ 1.,  5., 15.,  3.,  8.,  4., 17., 12.,  0.])"
      ]
     },
     "metadata": {},
     "output_type": "display_data"
    },
    {
     "data": {
      "text/plain": [
       "63.99999999999997"
      ]
     },
     "metadata": {},
     "output_type": "display_data"
    }
   ],
   "source": [
    "model = LinearRegression(fit_intercept=True)\n",
    "\n",
    "model.fit(X_new,y_new)\n",
    "display(model.coef_,model.intercept_)"
   ]
  },
  {
   "cell_type": "code",
   "execution_count": 151,
   "id": "dd712a3d",
   "metadata": {
    "ExecuteTime": {
     "end_time": "2022-05-25T13:29:17.229833Z",
     "start_time": "2022-05-25T13:29:17.216877Z"
    },
    "heading_collapsed": true
   },
   "outputs": [
    {
     "data": {
      "text/plain": [
       "array([ 1.,  5., 15.,  3.,  8.,  4., 17., 12., 64.])"
      ]
     },
     "execution_count": 151,
     "metadata": {},
     "output_type": "execute_result"
    }
   ],
   "source": [
    "\n",
    "w = np.linalg.inv(X_new.T.dot(X_new)).dot(X_new.T).dot(y_new)\n",
    "w"
   ]
  },
  {
   "attachments": {},
   "cell_type": "markdown",
   "id": "ccbbc824",
   "metadata": {},
   "source": [
    "$（X^TX)^{-1}X^TY$"
   ]
  },
  {
   "attachments": {},
   "cell_type": "markdown",
   "id": "0094f1cc",
   "metadata": {},
   "source": [
    "$X^{-1}Y$"
   ]
  },
  {
   "cell_type": "code",
   "execution_count": 152,
   "id": "089961b6",
   "metadata": {
    "ExecuteTime": {
     "end_time": "2022-05-25T13:41:14.807106Z",
     "start_time": "2022-05-25T13:41:14.794992Z"
    },
    "collapsed": true
   },
   "outputs": [
    {
     "data": {
      "text/plain": [
       "array([[  0,  14,   8,   0,   5,  -2,   9,  -3],\n",
       "       [ -4,  10,   6,   4, -14,  -2, -14,   8],\n",
       "       [ -1,  -6,   5, -12,   3,  -3,   2,  -2],\n",
       "       [  5,  -2,   3,  10,   5,  11,   4,  -8],\n",
       "       [-15, -15,  -8, -15,   7,  -4, -12,   2],\n",
       "       [ 11, -10,  -2,   4,   3,  -9,  -6,   7],\n",
       "       [-14,   0,   4,  -3,   5,  10,  13,   7],\n",
       "       [ -3,  -7,  -2,  -8,   0,  -6,  -5,  -9]])"
      ]
     },
     "execution_count": 152,
     "metadata": {},
     "output_type": "execute_result"
    }
   ],
   "source": [
    "X"
   ]
  },
  {
   "cell_type": "code",
   "execution_count": 153,
   "id": "90b7ebc4",
   "metadata": {
    "ExecuteTime": {
     "end_time": "2022-05-25T13:41:19.792377Z",
     "start_time": "2022-05-25T13:41:19.777430Z"
    },
    "collapsed": true
   },
   "outputs": [
    {
     "data": {
      "text/plain": [
       "array([[  0,  -4,  -1,   5, -15,  11, -14,  -3],\n",
       "       [ 14,  10,  -6,  -2, -15, -10,   0,  -7],\n",
       "       [  8,   6,   5,   3,  -8,  -2,   4,  -2],\n",
       "       [  0,   4, -12,  10, -15,   4,  -3,  -8],\n",
       "       [  5, -14,   3,   5,   7,   3,   5,   0],\n",
       "       [ -2,  -2,  -3,  11,  -4,  -9,  10,  -6],\n",
       "       [  9, -14,   2,   4, -12,  -6,  13,  -5],\n",
       "       [ -3,   8,  -2,  -8,   2,   7,   7,  -9]])"
      ]
     },
     "execution_count": 153,
     "metadata": {},
     "output_type": "execute_result"
    }
   ],
   "source": [
    "X.T"
   ]
  },
  {
   "attachments": {},
   "cell_type": "markdown",
   "id": "f57c3b6f",
   "metadata": {},
   "source": [
    "### 정규 방정식 유도입니다."
   ]
  },
  {
   "cell_type": "code",
   "execution_count": 158,
   "id": "755f9ead",
   "metadata": {
    "ExecuteTime": {
     "end_time": "2022-05-25T13:44:35.349001Z",
     "start_time": "2022-05-25T13:44:35.340504Z"
    }
   },
   "outputs": [
    {
     "data": {
      "text/plain": [
       "array([2, 5, 4, 8, 0, 3, 7, 0])"
      ]
     },
     "execution_count": 158,
     "metadata": {},
     "output_type": "execute_result"
    }
   ],
   "source": [
    "theta = np.random.randint(0,10,size = 8)\n",
    "theta"
   ]
  },
  {
   "cell_type": "code",
   "execution_count": 160,
   "id": "5e899a69",
   "metadata": {
    "ExecuteTime": {
     "end_time": "2022-05-25T13:44:55.664573Z",
     "start_time": "2022-05-25T13:44:55.644713Z"
    }
   },
   "outputs": [
    {
     "data": {
      "text/plain": [
       "array([4, 1, 3, 9, 5, 4, 6, 2])"
      ]
     },
     "execution_count": 160,
     "metadata": {},
     "output_type": "execute_result"
    }
   ],
   "source": [
    "X = np.random.randint(0,10,size = 8)\n",
    "X"
   ]
  },
  {
   "cell_type": "code",
   "execution_count": 161,
   "id": "4e612ec6",
   "metadata": {
    "ExecuteTime": {
     "end_time": "2022-05-25T13:45:11.375336Z",
     "start_time": "2022-05-25T13:45:11.358394Z"
    },
    "scrolled": true
   },
   "outputs": [
    {
     "data": {
      "text/plain": [
       "151"
      ]
     },
     "execution_count": 161,
     "metadata": {},
     "output_type": "execute_result"
    }
   ],
   "source": [
    "y = X.dot(theta)\n",
    "y"
   ]
  },
  {
   "cell_type": "code",
   "execution_count": 162,
   "id": "1224bfc2",
   "metadata": {
    "ExecuteTime": {
     "end_time": "2022-05-25T13:45:19.637824Z",
     "start_time": "2022-05-25T13:45:19.628888Z"
    }
   },
   "outputs": [
    {
     "data": {
      "text/plain": [
       "151"
      ]
     },
     "execution_count": 162,
     "metadata": {},
     "output_type": "execute_result"
    }
   ],
   "source": [
    "theta.dot(X)"
   ]
  },
  {
   "cell_type": "code",
   "execution_count": null,
   "id": "90018e98",
   "metadata": {},
   "outputs": [],
   "source": []
  }
 ],
 "metadata": {
  "kernelspec": {
   "display_name": "Python 3 (ipykernel)",
   "language": "python",
   "name": "python3"
  },
  "language_info": {
   "codemirror_mode": {
    "name": "ipython",
    "version": 3
   },
   "file_extension": ".py",
   "mimetype": "text/x-python",
   "name": "python",
   "nbconvert_exporter": "python",
   "pygments_lexer": "ipython3",
   "version": "3.9.6"
  },
  "toc": {
   "base_numbering": 1,
   "nav_menu": {},
   "number_sections": true,
   "sideBar": true,
   "skip_h1_title": false,
   "title_cell": "Table of Contents",
   "title_sidebar": "Contents",
   "toc_cell": false,
   "toc_position": {
    "height": "calc(100% - 180px)",
    "left": "10px",
    "top": "150px",
    "width": "245.76px"
   },
   "toc_section_display": true,
   "toc_window_display": true
  }
 },
 "nbformat": 4,
 "nbformat_minor": 5
}
